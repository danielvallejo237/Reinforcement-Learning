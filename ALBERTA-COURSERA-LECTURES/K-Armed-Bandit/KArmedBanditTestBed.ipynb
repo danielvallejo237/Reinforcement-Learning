{
 "cells": [
  {
   "cell_type": "markdown",
   "id": "a6c84bfc",
   "metadata": {},
   "source": [
    "# Code of the K=4 armed bandit TestBed\n",
    "### @Author: Daniel Vallejo Aldana"
   ]
  },
  {
   "cell_type": "code",
   "execution_count": 3,
   "id": "d1481bf2",
   "metadata": {},
   "outputs": [],
   "source": [
    "import numpy as np\n",
    "import random\n",
    "from scipy.stats import bernoulli as bl\n",
    "import matplotlib.pyplot as plt"
   ]
  },
  {
   "cell_type": "code",
   "execution_count": 5,
   "id": "480bad88",
   "metadata": {},
   "outputs": [
    {
     "name": "stdout",
     "output_type": "stream",
     "text": [
      "{1: 0.858794535262962, 2: -1.1369042945176497, 3: 0.25126712575774857, 4: 1.0354863562839842}\n"
     ]
    }
   ],
   "source": [
    "q_values=np.random.uniform(low=-2, high=2, size=4)\n",
    "q_values=q_values.tolist()\n",
    "aval={}\n",
    "for i,v in enumerate(q_values):\n",
    "    aval[i+1]=v\n",
    "print(aval)"
   ]
  },
  {
   "cell_type": "code",
   "execution_count": 6,
   "id": "3adad6fc",
   "metadata": {},
   "outputs": [],
   "source": [
    "def reward(action,daction):\n",
    "    return np.random.normal(loc=daction[action],scale=1)\n",
    "\n",
    "def return_action(Q,N):\n",
    "    ind=Q.tolist().index(max(Q))\n",
    "    N[ind]+=1\n",
    "    return ind+1"
   ]
  },
  {
   "cell_type": "code",
   "execution_count": 7,
   "id": "33e32e22",
   "metadata": {},
   "outputs": [],
   "source": [
    "def epsilon_greedy(epsilon=0,qvals=q_values,daction=aval,time_steps=300,seed=10):\n",
    "    #epsilon value is set to 0 by default, just taking greedy actions\n",
    "    np.random.seed(seed)\n",
    "    random.seed(seed)\n",
    "    Q=np.zeros_like(np.asarray(qvals))\n",
    "    N=np.zeros_like(np.asarray(qvals))\n",
    "    rewards=[]\n",
    "    rewards.append(0)\n",
    "    for step in range(time_steps):\n",
    "        #epsilon greedy update\n",
    "        option=bl.rvs(1-epsilon)\n",
    "        if option:\n",
    "            #Geedy action\n",
    "            action=return_action(Q,N)\n",
    "            R=reward(action,daction)\n",
    "            rewards.append(R)\n",
    "            Q[action-1]=Q[action-1]+(1/N[action-1])*(R-Q[action-1]) #Update equation\n",
    "        else:\n",
    "            #Select action randomly\n",
    "            action=random.randrange(1,len(qvals))\n",
    "            R=reward(action,daction)\n",
    "            N[action-1]+=1\n",
    "            rewards.append(R)\n",
    "            Q[action-1]=Q[action-1]+(1/N[action-1])*(R-Q[action-1]) #Update equation\n",
    "    return Q,rewards"
   ]
  },
  {
   "cell_type": "code",
   "execution_count": 16,
   "id": "1bedc048",
   "metadata": {},
   "outputs": [],
   "source": [
    "average_dist=np.zeros(801)\n",
    "colores=['red','blue','green','magenta']\n",
    "samples=2000\n",
    "for i in range(samples):\n",
    "    Qv,Re=epsilon_greedy(epsilon=0.1,seed=i+1,time_steps=800)\n",
    "    average_dist=average_dist+np.asarray(Re)\n",
    "average_dist=average_dist/samples"
   ]
  },
  {
   "cell_type": "code",
   "execution_count": 17,
   "id": "472ca568",
   "metadata": {},
   "outputs": [],
   "source": [
    "average_dist2=np.zeros(801)\n",
    "samples=2000\n",
    "for i in range(samples):\n",
    "    Qv,Re=epsilon_greedy(epsilon=0.01,seed=i+1,time_steps=800)\n",
    "    average_dist2=average_dist2+np.asarray(Re)\n",
    "average_dist2=average_dist2/samples"
   ]
  },
  {
   "cell_type": "code",
   "execution_count": 18,
   "id": "dcebe1b7",
   "metadata": {},
   "outputs": [
    {
     "data": {
      "text/plain": [
       "(0.0, 2.0)"
      ]
     },
     "execution_count": 18,
     "metadata": {},
     "output_type": "execute_result"
    },
    {
     "data": {
      "image/png": "[encoded data removed]",
      "text/plain": [
       "<Figure size 432x288 with 1 Axes>"
      ]
     },
     "metadata": {
      "needs_background": "light"
     },
     "output_type": "display_data"
    }
   ],
   "source": [
    "plt.plot(average_dist,color='red')\n",
    "plt.plot(average_dist2,color='blue')\n",
    "plt.ylim(0,2)"
   ]
  },
  {
   "cell_type": "code",
   "execution_count": null,
   "id": "d2fa27fb",
   "metadata": {},
   "outputs": [],
   "source": []
  }
 ],
 "metadata": {
  "kernelspec": {
   "display_name": "Python 3",
   "language": "python",
   "name": "python3"
  },
  "language_info": {
   "codemirror_mode": {
    "name": "ipython",
    "version": 3
   },
   "file_extension": ".py",
   "mimetype": "text/x-python",
   "name": "python",
   "nbconvert_exporter": "python",
   "pygments_lexer": "ipython3",
   "version": "3.8.8"
  }
 },
 "nbformat": 4,
 "nbformat_minor": 5
}

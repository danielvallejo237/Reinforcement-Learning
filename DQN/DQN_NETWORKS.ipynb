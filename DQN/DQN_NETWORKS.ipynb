{
 "cells": [
  {
   "cell_type": "markdown",
   "id": "material-affairs",
   "metadata": {},
   "source": [
    "# Redes DQN y algunas extensiones "
   ]
  },
  {
   "cell_type": "markdown",
   "id": "casual-dryer",
   "metadata": {},
   "source": [
    "# DQN Simple"
   ]
  },
  {
   "cell_type": "markdown",
   "id": "marine-picnic",
   "metadata": {},
   "source": [
    "En la DQN para la actualización del valor Q consideramos\n",
    "$$\n",
    "Q^{\\pi}(s,a)=r+\\gamma max_{a' \\in A_{s'}}Q(s',a')\n",
    "$$"
   ]
  },
  {
   "cell_type": "code",
   "execution_count": null,
   "id": "retained-child",
   "metadata": {},
   "outputs": [],
   "source": []
  }
 ],
 "metadata": {
  "kernelspec": {
   "display_name": "Python 3",
   "language": "python",
   "name": "python3"
  },
  "language_info": {
   "codemirror_mode": {
    "name": "ipython",
    "version": 3
   },
   "file_extension": ".py",
   "mimetype": "text/x-python",
   "name": "python",
   "nbconvert_exporter": "python",
   "pygments_lexer": "ipython3",
   "version": "3.8.5"
  }
 },
 "nbformat": 4,
 "nbformat_minor": 5
}
